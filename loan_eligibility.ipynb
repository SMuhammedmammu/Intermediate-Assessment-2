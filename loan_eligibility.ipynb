{
 "cells": [
  {
   "cell_type": "code",
   "execution_count": 16,
   "id": "9180b9b0",
   "metadata": {},
   "outputs": [],
   "source": [
    "import pandas as pd\n",
    "from sklearn.model_selection import train_test_split\n",
    "from sklearn.preprocessing import LabelEncoder\n",
    "from sklearn.impute import SimpleImputer\n",
    "from sklearn.ensemble import RandomForestClassifier\n",
    "from sklearn.metrics import accuracy_score\n",
    "\n",
    "# Load the data\n",
    "train_data = pd.read_csv('train.csv')\n",
    "test_data = pd.read_csv('test.csv')\n",
    "\n",
    "# Handling Missing Values\n",
    "imputer = SimpleImputer(strategy='median')\n",
    "train_data['LoanAmount'] = imputer.fit_transform(train_data[['LoanAmount']])\n",
    "train_data['Loan_Amount_Term'] = imputer.fit_transform(train_data[['Loan_Amount_Term']])\n",
    "train_data['Credit_History'] = imputer.fit_transform(train_data[['Credit_History']])\n",
    "\n",
    "test_data['LoanAmount'] = imputer.fit_transform(test_data[['LoanAmount']])\n",
    "test_data['Loan_Amount_Term'] = imputer.fit_transform(test_data[['Loan_Amount_Term']])\n",
    "test_data['Credit_History'] = imputer.fit_transform(test_data[['Credit_History']])\n",
    "\n",
    "# Fill categorical missing values with the mode\n",
    "for col in ['Gender', 'Married', 'Dependents', 'Self_Employed']:\n",
    "    train_data[col] = train_data[col].fillna(train_data[col].mode()[0])\n",
    "    test_data[col] = test_data[col].fillna(test_data[col].mode()[0])\n",
    "\n",
    "# Label Encoding for Categorical Columns\n",
    "encoder = LabelEncoder()\n",
    "for col in ['Gender', 'Married', 'Education', 'Self_Employed', 'Property_Area', 'Loan_Status']:\n",
    "    train_data[col] = encoder.fit_transform(train_data[col])\n",
    "for col in ['Gender', 'Married', 'Education', 'Self_Employed', 'Property_Area']:\n",
    "    test_data[col] = encoder.fit_transform(test_data[col])"
   ]
  },
  {
   "cell_type": "code",
   "execution_count": 18,
   "id": "9351b8b1",
   "metadata": {},
   "outputs": [],
   "source": [
    "for dataset in [train_data, test_data]:\n",
    "    dataset['Dependents'] = dataset['Dependents'].replace('3+', 3).astype(float)\n",
    "\n",
    "# Target Variable\n",
    "X = train_data.drop(columns=['Loan_ID', 'Loan_Status'])\n",
    "y = train_data['Loan_Status']\n",
    "X_test = test_data.drop(columns=['Loan_ID'])\n",
    "\n",
    "# Split data into train and validation sets\n",
    "X_train, X_valid, y_train, y_valid = train_test_split(X, y, test_size=0.2, random_state=42)"
   ]
  },
  {
   "cell_type": "code",
   "execution_count": 20,
   "id": "15b1b844",
   "metadata": {},
   "outputs": [
    {
     "name": "stdout",
     "output_type": "stream",
     "text": [
      "Validation Accuracy: 0.7560975609756098\n"
     ]
    }
   ],
   "source": [
    "model = RandomForestClassifier(random_state=42, n_estimators=100)\n",
    "model.fit(X_train, y_train)\n",
    "\n",
    "y_pred_valid = model.predict(X_valid)\n",
    "accuracy = accuracy_score(y_valid, y_pred_valid)\n",
    "\n",
    "print(f'Validation Accuracy: {accuracy}')\n",
    "\n",
    "# Predict on the test data\n",
    "y_pred_test = model.predict(X_test)"
   ]
  },
  {
   "cell_type": "code",
   "execution_count": 22,
   "id": "73886511",
   "metadata": {},
   "outputs": [
    {
     "name": "stdout",
     "output_type": "stream",
     "text": [
      "Submission file saved as final_submission.csv\n"
     ]
    }
   ],
   "source": [
    "final_predictions = pd.DataFrame({\n",
    "    'Loan_ID': test_data['Loan_ID'],\n",
    "    'Loan_Status': ['Y' if pred == 1 else 'N' for pred in y_pred_test]\n",
    "})\n",
    "\n",
    "final_predictions.to_csv('final_submission.csv', index=False)\n",
    "print('Submission file saved as final_submission.csv')"
   ]
  },
  {
   "cell_type": "code",
   "execution_count": null,
   "id": "079a7c2e-6a0f-466b-ad71-b2349333ee78",
   "metadata": {},
   "outputs": [],
   "source": []
  }
 ],
 "metadata": {
  "kernelspec": {
   "display_name": "Python 3 (ipykernel)",
   "language": "python",
   "name": "python3"
  },
  "language_info": {
   "codemirror_mode": {
    "name": "ipython",
    "version": 3
   },
   "file_extension": ".py",
   "mimetype": "text/x-python",
   "name": "python",
   "nbconvert_exporter": "python",
   "pygments_lexer": "ipython3",
   "version": "3.12.7"
  }
 },
 "nbformat": 4,
 "nbformat_minor": 5
}
